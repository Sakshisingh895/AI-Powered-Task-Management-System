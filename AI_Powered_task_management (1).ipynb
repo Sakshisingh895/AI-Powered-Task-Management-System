{
  "cells": [
    {
      "cell_type": "code",
      "execution_count": 96,
      "metadata": {
        "id": "5hUdxqd0LOcc"
      },
      "outputs": [],
      "source": [
        "import numpy as np\n",
        "import matplotlib.pyplot as plt\n",
        "import pandas as pd\n",
        "from sklearn.metrics import classification_report\n",
        "import pickle\n"
      ]
    },
    {
      "cell_type": "code",
      "execution_count": 97,
      "metadata": {
        "colab": {
          "base_uri": "https://localhost:8080/",
          "height": 400
        },
        "id": "TUenyhKxLlJu",
        "outputId": "c19a6b96-d114-40cb-fef9-9b2bce63bfb8"
      },
      "outputs": [
        {
          "data": {
            "text/html": [
              "<div>\n",
              "<style scoped>\n",
              "    .dataframe tbody tr th:only-of-type {\n",
              "        vertical-align: middle;\n",
              "    }\n",
              "\n",
              "    .dataframe tbody tr th {\n",
              "        vertical-align: top;\n",
              "    }\n",
              "\n",
              "    .dataframe thead th {\n",
              "        text-align: right;\n",
              "    }\n",
              "</style>\n",
              "<table border=\"1\" class=\"dataframe\">\n",
              "  <thead>\n",
              "    <tr style=\"text-align: right;\">\n",
              "      <th></th>\n",
              "      <th>Task</th>\n",
              "      <th>Category</th>\n",
              "      <th>Priority</th>\n",
              "      <th>Deadline</th>\n",
              "      <th>Assigned_To</th>\n",
              "      <th>User_Behavior_Score</th>\n",
              "      <th>Status</th>\n",
              "      <th>Workload</th>\n",
              "      <th>Processed_Task</th>\n",
              "    </tr>\n",
              "  </thead>\n",
              "  <tbody>\n",
              "    <tr>\n",
              "      <th>0</th>\n",
              "      <td>Write guide for the engineer_magnetic_solution...</td>\n",
              "      <td>Documentation</td>\n",
              "      <td>Low</td>\n",
              "      <td>2025-05-21</td>\n",
              "      <td>Preet</td>\n",
              "      <td>0.84</td>\n",
              "      <td>Completed</td>\n",
              "      <td>High</td>\n",
              "      <td>write guide engineermagneticsolutions wednesday</td>\n",
              "    </tr>\n",
              "    <tr>\n",
              "      <th>1</th>\n",
              "      <td>Investigate the seize_cross-platform_partnersh...</td>\n",
              "      <td>Research</td>\n",
              "      <td>Medium</td>\n",
              "      <td>2025-05-22</td>\n",
              "      <td>Naman</td>\n",
              "      <td>0.50</td>\n",
              "      <td>Completed</td>\n",
              "      <td>Medium</td>\n",
              "      <td>investigate seizecrossplatformpartnerships thu...</td>\n",
              "    </tr>\n",
              "    <tr>\n",
              "      <th>2</th>\n",
              "      <td>Implement the unleash_sticky_schemas before Tu...</td>\n",
              "      <td>Feature</td>\n",
              "      <td>High</td>\n",
              "      <td>2025-06-03</td>\n",
              "      <td>Bibhab</td>\n",
              "      <td>0.59</td>\n",
              "      <td>Completed</td>\n",
              "      <td>Low</td>\n",
              "      <td>implement unleashstickyschemas tuesday</td>\n",
              "    </tr>\n",
              "    <tr>\n",
              "      <th>3</th>\n",
              "      <td>Develop the transform_cross-media_markets befo...</td>\n",
              "      <td>Feature</td>\n",
              "      <td>Medium</td>\n",
              "      <td>2025-05-22</td>\n",
              "      <td>Smit</td>\n",
              "      <td>0.67</td>\n",
              "      <td>Pending</td>\n",
              "      <td>Medium</td>\n",
              "      <td>develop transformcrossmediamarkets thursday</td>\n",
              "    </tr>\n",
              "    <tr>\n",
              "      <th>4</th>\n",
              "      <td>Create the drive_dot-com_methodologies before ...</td>\n",
              "      <td>Feature</td>\n",
              "      <td>Medium</td>\n",
              "      <td>2025-05-25</td>\n",
              "      <td>Smit</td>\n",
              "      <td>0.67</td>\n",
              "      <td>Pending</td>\n",
              "      <td>Medium</td>\n",
              "      <td>create drivedotcommethodologies sunday</td>\n",
              "    </tr>\n",
              "  </tbody>\n",
              "</table>\n",
              "</div>"
            ],
            "text/plain": [
              "                                                Task       Category Priority  \\\n",
              "0  Write guide for the engineer_magnetic_solution...  Documentation      Low   \n",
              "1  Investigate the seize_cross-platform_partnersh...       Research   Medium   \n",
              "2  Implement the unleash_sticky_schemas before Tu...        Feature     High   \n",
              "3  Develop the transform_cross-media_markets befo...        Feature   Medium   \n",
              "4  Create the drive_dot-com_methodologies before ...        Feature   Medium   \n",
              "\n",
              "     Deadline Assigned_To  User_Behavior_Score     Status Workload  \\\n",
              "0  2025-05-21       Preet                 0.84  Completed     High   \n",
              "1  2025-05-22       Naman                 0.50  Completed   Medium   \n",
              "2  2025-06-03      Bibhab                 0.59  Completed      Low   \n",
              "3  2025-05-22        Smit                 0.67    Pending   Medium   \n",
              "4  2025-05-25        Smit                 0.67    Pending   Medium   \n",
              "\n",
              "                                      Processed_Task  \n",
              "0    write guide engineermagneticsolutions wednesday  \n",
              "1  investigate seizecrossplatformpartnerships thu...  \n",
              "2             implement unleashstickyschemas tuesday  \n",
              "3        develop transformcrossmediamarkets thursday  \n",
              "4             create drivedotcommethodologies sunday  "
            ]
          },
          "execution_count": 97,
          "metadata": {},
          "output_type": "execute_result"
        }
      ],
      "source": [
        "df = pd.read_csv('C:/Users/Pc/Desktop/project1/AI_Powered_Task_Management_System-main/AI_Powered_Task_Management_System-main/processed_task_management_dataset.csv')\n",
        "df.head()"
      ]
    },
    {
      "cell_type": "code",
      "execution_count": 98,
      "metadata": {},
      "outputs": [],
      "source": [
        "import pickle\n",
        "\n",
        "# Load the model from the .pkl file\n",
        "with open('task_classifier_model.pkl', 'rb') as file:\n",
        "    model = pickle.load(file)\n",
        "\n",
        "# Example: Use the model to predict (replace `X` with your actual test data)\n",
        "# predictions = model.predict(X)\n",
        "# print(predictions)\n"
      ]
    },
    {
      "cell_type": "code",
      "execution_count": 99,
      "metadata": {},
      "outputs": [
        {
          "name": "stdout",
          "output_type": "stream",
          "text": [
            "<class 'numpy.ndarray'>\n"
          ]
        }
      ],
      "source": [
        "print(type(model))  # See what kind of model it is\n"
      ]
    },
    {
      "cell_type": "markdown",
      "metadata": {
        "id": "dAOJgYm3ORmC"
      },
      "source": [
        "Week 2 :\n",
        "1. Feature Extraction with TF-IDF"
      ]
    },
    {
      "cell_type": "code",
      "execution_count": 100,
      "metadata": {
        "id": "2WAa98aRLgzI"
      },
      "outputs": [],
      "source": [
        "from sklearn.feature_extraction.text import TfidfVectorizer\n",
        "\n",
        "# Use the cleaned task descriptions\n",
        "texts = df[\"Processed_Task\"]\n",
        "labels = df[\"Category\"]\n",
        "\n",
        "# Convert text to TF-IDF features\n",
        "vectorizer = TfidfVectorizer(max_features=1000)\n",
        "X = vectorizer.fit_transform(texts)\n"
      ]
    },
    {
      "cell_type": "markdown",
      "metadata": {
        "id": "0xjDicw6OWj8"
      },
      "source": [
        "2. Train/Test Split and Classifier Training"
      ]
    },
    {
      "cell_type": "code",
      "execution_count": 101,
      "metadata": {
        "colab": {
          "base_uri": "https://localhost:8080/"
        },
        "id": "3GRHZFm1LuAU",
        "outputId": "1acdb51f-b028-4491-98a2-c42f9bdd6f9b"
      },
      "outputs": [
        {
          "name": "stdout",
          "output_type": "stream",
          "text": [
            "Naive Bayes Results:\n",
            "                precision    recall  f1-score   support\n",
            "\n",
            "          Bug       1.00      1.00      1.00        48\n",
            "  Code Review       0.82      0.97      0.89        34\n",
            "   Deployment       1.00      1.00      1.00        40\n",
            "       Design       1.00      1.00      1.00        39\n",
            "Documentation       0.89      1.00      0.94        32\n",
            "      Feature       1.00      0.89      0.94        38\n",
            "  Maintenance       1.00      1.00      1.00        36\n",
            " Optimization       0.97      0.88      0.92        41\n",
            "     Research       1.00      0.96      0.98        46\n",
            "      Testing       1.00      1.00      1.00        46\n",
            "\n",
            "     accuracy                           0.97       400\n",
            "    macro avg       0.97      0.97      0.97       400\n",
            " weighted avg       0.97      0.97      0.97       400\n",
            "\n",
            "SVM Results:\n",
            "                precision    recall  f1-score   support\n",
            "\n",
            "          Bug       1.00      1.00      1.00        48\n",
            "  Code Review       0.84      0.94      0.89        34\n",
            "   Deployment       1.00      1.00      1.00        40\n",
            "       Design       1.00      1.00      1.00        39\n",
            "Documentation       1.00      1.00      1.00        32\n",
            "      Feature       1.00      1.00      1.00        38\n",
            "  Maintenance       1.00      1.00      1.00        36\n",
            " Optimization       0.95      0.85      0.90        41\n",
            "     Research       1.00      1.00      1.00        46\n",
            "      Testing       1.00      1.00      1.00        46\n",
            "\n",
            "     accuracy                           0.98       400\n",
            "    macro avg       0.98      0.98      0.98       400\n",
            " weighted avg       0.98      0.98      0.98       400\n",
            "\n"
          ]
        }
      ],
      "source": [
        "from sklearn.model_selection import train_test_split\n",
        "from sklearn.naive_bayes import MultinomialNB\n",
        "from sklearn.svm import LinearSVC\n",
        "from sklearn.metrics import classification_report\n",
        "\n",
        "\n",
        "X_train, X_test, y_train, y_test = train_test_split(X, labels, test_size=0.2, random_state=42)\n",
        "\n",
        "# Naive Bayes model\n",
        "nb_model = MultinomialNB()\n",
        "nb_model.fit(X_train, y_train)\n",
        "nb_preds = nb_model.predict(X_test)\n",
        "print(\"Naive Bayes Results:\\n\", classification_report(y_test, nb_preds))\n",
        "\n",
        "# SVM model\n",
        "svm_model = LinearSVC()\n",
        "svm_model.fit(X_train, y_train)\n",
        "svm_preds = svm_model.predict(X_test)\n",
        "print(\"SVM Results:\\n\", classification_report(y_test, svm_preds))\n"
      ]
    },
    {
      "cell_type": "markdown",
      "metadata": {
        "id": "lDLP9cTjMWB5"
      },
      "source": [
        "Week 3 :\n",
        "1. Priority Prediction Model using Random Forest"
      ]
    },
    {
      "cell_type": "code",
      "execution_count": 102,
      "metadata": {
        "colab": {
          "base_uri": "https://localhost:8080/"
        },
        "id": "ASp38N_YL0v6",
        "outputId": "709f7b3d-2484-415d-9884-ae58b1874ac9"
      },
      "outputs": [
        {
          "name": "stdout",
          "output_type": "stream",
          "text": [
            "Random Forest - Priority Prediction Report:\n",
            "\n",
            "              precision    recall  f1-score   support\n",
            "\n",
            "        High       0.52      0.75      0.62       202\n",
            "         Low       0.27      0.17      0.21        63\n",
            "      Medium       0.35      0.18      0.24       135\n",
            "\n",
            "    accuracy                           0.47       400\n",
            "   macro avg       0.38      0.37      0.35       400\n",
            "weighted avg       0.42      0.47      0.42       400\n",
            "\n"
          ]
        }
      ],
      "source": [
        "from sklearn.feature_extraction.text import TfidfVectorizer\n",
        "from sklearn.ensemble import RandomForestClassifier\n",
        "from sklearn.model_selection import train_test_split, GridSearchCV\n",
        "from sklearn.preprocessing import LabelEncoder\n",
        "from sklearn.metrics import classification_report\n",
        "\n",
        "# Encode Priority labels\n",
        "le_priority = LabelEncoder()\n",
        "df[\"Priority_Label\"] = le_priority.fit_transform(df[\"Priority\"])\n",
        "\n",
        "# TF-IDF features from Processed_Task\n",
        "vectorizer = TfidfVectorizer(max_features=1000)\n",
        "X = vectorizer.fit_transform(df[\"Processed_Task\"])\n",
        "y = df[\"Priority_Label\"]\n",
        "\n",
        "X_train, X_test, y_train, y_test = train_test_split(X, y, test_size=0.2, random_state=42)\n",
        "\n",
        "rf_model = RandomForestClassifier(random_state=42)\n",
        "rf_model.fit(X_train, y_train)\n",
        "y_pred = rf_model.predict(X_test)\n",
        "\n",
        "print(\"Random Forest - Priority Prediction Report:\\n\")\n",
        "print(classification_report(y_test, y_pred, target_names=le_priority.classes_))\n"
      ]
    },
    {
      "cell_type": "markdown",
      "metadata": {
        "id": "R5Ui4lzqMjqD"
      },
      "source": [
        "2. GridSearchCV for Hyperparameter Tuning"
      ]
    },
    {
      "cell_type": "code",
      "execution_count": 103,
      "metadata": {
        "colab": {
          "base_uri": "https://localhost:8080/"
        },
        "id": "7JIXIUekMjUa",
        "outputId": "39a0315b-a027-468e-b46c-b14cd167a555"
      },
      "outputs": [
        {
          "name": "stdout",
          "output_type": "stream",
          "text": [
            "Best Parameters: {'max_depth': 10, 'min_samples_split': 2, 'n_estimators': 100}\n",
            "Best CV Accuracy Score: 0.49187460327498694\n"
          ]
        }
      ],
      "source": [
        "# Hyperparameter tuning using GridSearchCV\n",
        "param_grid = {\n",
        "    'n_estimators': [50, 100],\n",
        "    'max_depth': [None, 10, 20],\n",
        "    'min_samples_split': [2, 5]\n",
        "}\n",
        "\n",
        "grid_search = GridSearchCV(RandomForestClassifier(random_state=42), param_grid, cv=3, scoring='accuracy')\n",
        "grid_search.fit(X_train, y_train)\n",
        "\n",
        "print(\"Best Parameters:\", grid_search.best_params_)\n",
        "print(\"Best CV Accuracy Score:\", grid_search.best_score_)\n"
      ]
    },
    {
      "cell_type": "markdown",
      "metadata": {
        "id": "pGlxToNUMnf5"
      },
      "source": [
        "3. Workload Balancing Logic (Simple Heuristic)"
      ]
    },
    {
      "cell_type": "code",
      "execution_count": 104,
      "metadata": {
        "colab": {
          "base_uri": "https://localhost:8080/"
        },
        "id": "4nHzxRwbMrLJ",
        "outputId": "ed0434a5-c0c5-4d46-daba-84ec028c93be"
      },
      "outputs": [
        {
          "name": "stdout",
          "output_type": "stream",
          "text": [
            "Assign next task to: Aarav\n"
          ]
        }
      ],
      "source": [
        "# Count tasks per user\n",
        "task_counts = df[\"Assigned_To\"].value_counts()\n",
        "\n",
        "# Assign new tasks to users with the least workload\n",
        "def assign_task_least_loaded(user_task_counts):\n",
        "    return user_task_counts.idxmin()\n",
        "\n",
        "new_assignment = assign_task_least_loaded(task_counts)\n",
        "print(\"Assign next task to:\", new_assignment)\n"
      ]
    },
    {
      "cell_type": "markdown",
      "metadata": {
        "id": "w-ys4A-cNMfc"
      },
      "source": [
        "Week 4 :\n",
        "1. Finalize Models for Task Classification & Priority Prediction"
      ]
    },
    {
      "cell_type": "code",
      "execution_count": 105,
      "metadata": {
        "colab": {
          "base_uri": "https://localhost:8080/"
        },
        "id": "QW1gHe_KM6Mo",
        "outputId": "01043891-dea7-470e-d872-6cdcbd2bf1d0"
      },
      "outputs": [
        {
          "data": {
            "text/plain": [
              "['tfidf_vectorizer.pkl']"
            ]
          },
          "execution_count": 105,
          "metadata": {},
          "output_type": "execute_result"
        }
      ],
      "source": [
        "import joblib\n",
        "\n",
        "joblib.dump(svm_model, \"task_classifier_model.pkl\")\n",
        "\n",
        "joblib.dump(rf_model, \"priority_predictor_model.pkl\")\n",
        "\n",
        "joblib.dump(vectorizer, \"tfidf_vectorizer.pkl\")\n"
      ]
    },
    {
      "cell_type": "markdown",
      "metadata": {
        "id": "FJcsCBdFNV1H"
      },
      "source": [
        "2. Prepare Dashboard Mockup / Output Summary"
      ]
    },
    {
      "cell_type": "code",
      "execution_count": 106,
      "metadata": {
        "colab": {
          "base_uri": "https://localhost:8080/",
          "height": 487
        },
        "id": "7WvRQM8cNXRZ",
        "outputId": "6e39e596-7a72-4f03-dffb-fa646038411f"
      },
      "outputs": [
        {
          "data": {
            "image/png": "[encoded data removed]",
            "text/plain": [
              "<Figure size 640x480 with 1 Axes>"
            ]
          },
          "metadata": {},
          "output_type": "display_data"
        }
      ],
      "source": [
        "import matplotlib.pyplot as plt\n",
        "\n",
        "df['Category'].value_counts().plot(kind='bar', color='skyblue')\n",
        "plt.title('Task Category Distribution')\n",
        "plt.xlabel('Category')\n",
        "plt.ylabel('Count')\n",
        "plt.tight_layout()\n",
        "plt.show()\n"
      ]
    },
    {
      "cell_type": "code",
      "execution_count": 107,
      "metadata": {
        "colab": {
          "base_uri": "https://localhost:8080/",
          "height": 428
        },
        "id": "B4G68MUpNdUP",
        "outputId": "ad3dbc9b-4c2b-47f6-e4f4-bf971f0b8e6f"
      },
      "outputs": [
        {
          "data": {
            "image/png": "[encoded data removed]",
            "text/plain": [
              "<Figure size 640x480 with 1 Axes>"
            ]
          },
          "metadata": {},
          "output_type": "display_data"
        }
      ],
      "source": [
        "df['Priority'].value_counts().plot(kind='pie', autopct='%1.1f%%', startangle=90, colors=['lightgreen', 'gold', 'salmon'])\n",
        "plt.title('Priority Distribution')\n",
        "plt.ylabel('')\n",
        "plt.show()\n"
      ]
    },
    {
      "cell_type": "markdown",
      "metadata": {
        "id": "cXRDmwRsNY-x"
      },
      "source": [
        "3. Compile Performance Metrics"
      ]
    },
    {
      "cell_type": "code",
      "execution_count": 109,
      "metadata": {},
      "outputs": [
        {
          "name": "stdout",
          "output_type": "stream",
          "text": [
            "y_test unique values: [0 2 1]\n",
            "svm_preds unique values: ['Bug' 'Maintenance' 'Deployment' 'Documentation' 'Testing' 'Design'\n",
            " 'Feature' 'Code Review' 'Optimization' 'Research']\n"
          ]
        }
      ],
      "source": [
        "print(\"y_test unique values:\", pd.Series(y_test).unique())\n",
        "print(\"svm_preds unique values:\", pd.Series(svm_preds).unique())\n"
      ]
    },
    {
      "cell_type": "code",
      "execution_count": 110,
      "metadata": {},
      "outputs": [
        {
          "name": "stdout",
          "output_type": "stream",
          "text": [
            "{'Design', 'Testing', 'Optimization', 'Documentation', 'Bug', 'Feature', 'Maintenance', 'Deployment', 'Code Review', 'Research'}\n"
          ]
        }
      ],
      "source": [
        "print(set(svm_preds))\n"
      ]
    },
    {
      "cell_type": "code",
      "execution_count": 111,
      "metadata": {},
      "outputs": [
        {
          "name": "stdout",
          "output_type": "stream",
          "text": [
            "               precision    recall  f1-score   support\n",
            "\n",
            "            0       0.00      0.00      0.00     202.0\n",
            "            1       0.00      0.00      0.00      63.0\n",
            "            2       0.00      0.00      0.00     135.0\n",
            "          Bug       0.00      0.00      0.00       0.0\n",
            "  Code Review       0.00      0.00      0.00       0.0\n",
            "   Deployment       0.00      0.00      0.00       0.0\n",
            "       Design       0.00      0.00      0.00       0.0\n",
            "Documentation       0.00      0.00      0.00       0.0\n",
            "      Feature       0.00      0.00      0.00       0.0\n",
            "  Maintenance       0.00      0.00      0.00       0.0\n",
            " Optimization       0.00      0.00      0.00       0.0\n",
            "     Research       0.00      0.00      0.00       0.0\n",
            "      Testing       0.00      0.00      0.00       0.0\n",
            "\n",
            "     accuracy                           0.00     400.0\n",
            "    macro avg       0.00      0.00      0.00     400.0\n",
            " weighted avg       0.00      0.00      0.00     400.0\n",
            "\n"
          ]
        },
        {
          "name": "stderr",
          "output_type": "stream",
          "text": [
            "c:\\Users\\Pc\\AppData\\Local\\Programs\\Python\\Python313\\Lib\\site-packages\\sklearn\\metrics\\_classification.py:1565: UndefinedMetricWarning: Precision is ill-defined and being set to 0.0 in labels with no predicted samples. Use `zero_division` parameter to control this behavior.\n",
            "  _warn_prf(average, modifier, f\"{metric.capitalize()} is\", len(result))\n",
            "c:\\Users\\Pc\\AppData\\Local\\Programs\\Python\\Python313\\Lib\\site-packages\\sklearn\\metrics\\_classification.py:1565: UndefinedMetricWarning: Recall is ill-defined and being set to 0.0 in labels with no true samples. Use `zero_division` parameter to control this behavior.\n",
            "  _warn_prf(average, modifier, f\"{metric.capitalize()} is\", len(result))\n",
            "c:\\Users\\Pc\\AppData\\Local\\Programs\\Python\\Python313\\Lib\\site-packages\\sklearn\\metrics\\_classification.py:1565: UndefinedMetricWarning: Precision is ill-defined and being set to 0.0 in labels with no predicted samples. Use `zero_division` parameter to control this behavior.\n",
            "  _warn_prf(average, modifier, f\"{metric.capitalize()} is\", len(result))\n",
            "c:\\Users\\Pc\\AppData\\Local\\Programs\\Python\\Python313\\Lib\\site-packages\\sklearn\\metrics\\_classification.py:1565: UndefinedMetricWarning: Recall is ill-defined and being set to 0.0 in labels with no true samples. Use `zero_division` parameter to control this behavior.\n",
            "  _warn_prf(average, modifier, f\"{metric.capitalize()} is\", len(result))\n",
            "c:\\Users\\Pc\\AppData\\Local\\Programs\\Python\\Python313\\Lib\\site-packages\\sklearn\\metrics\\_classification.py:1565: UndefinedMetricWarning: Precision is ill-defined and being set to 0.0 in labels with no predicted samples. Use `zero_division` parameter to control this behavior.\n",
            "  _warn_prf(average, modifier, f\"{metric.capitalize()} is\", len(result))\n",
            "c:\\Users\\Pc\\AppData\\Local\\Programs\\Python\\Python313\\Lib\\site-packages\\sklearn\\metrics\\_classification.py:1565: UndefinedMetricWarning: Recall is ill-defined and being set to 0.0 in labels with no true samples. Use `zero_division` parameter to control this behavior.\n",
            "  _warn_prf(average, modifier, f\"{metric.capitalize()} is\", len(result))\n"
          ]
        }
      ],
      "source": [
        "# Normalize y_test to match predicted casing\n",
        "y_test_normalized = [str(label).capitalize() for label in y_test]\n",
        "\n",
        "# Directly use svm_preds (no mapping needed)\n",
        "print(classification_report(y_test_normalized, svm_preds))\n"
      ]
    },
    {
      "cell_type": "code",
      "execution_count": 112,
      "metadata": {},
      "outputs": [
        {
          "name": "stdout",
          "output_type": "stream",
          "text": [
            "['Bug' 'Code Review' 'Deployment' 'Design' 'Documentation' 'Feature'\n",
            " 'Maintenance' 'Optimization' 'Research' 'Testing']\n"
          ]
        }
      ],
      "source": [
        "with open('task_classifier_model.pkl', 'rb') as file:\n",
        "    model = pickle.load(file)\n",
        "\n",
        "    print(model)\n"
      ]
    }
  ],
  "metadata": {
    "colab": {
      "provenance": []
    },
    "kernelspec": {
      "display_name": "Python 3",
      "name": "python3"
    },
    "language_info": {
      "codemirror_mode": {
        "name": "ipython",
        "version": 3
      },
      "file_extension": ".py",
      "mimetype": "text/x-python",
      "name": "python",
      "nbconvert_exporter": "python",
      "pygments_lexer": "ipython3",
      "version": "3.13.2"
    }
  },
  "nbformat": 4,
  "nbformat_minor": 0
}
